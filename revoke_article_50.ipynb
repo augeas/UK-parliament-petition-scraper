{
 "cells": [
  {
   "cell_type": "markdown",
   "metadata": {},
   "source": [
    "# In which we use the [WayBack Machine](https://archive.org/web/) to scrape historical data on the number of signatures for the [Petition to Revoke Article 50](https://petition.parliament.uk/petitions/241584).\n",
    "\n",
    "## Once this notebook has loaded properly, select \"Kernel\" then \"Restart & Run All\" to get the latest data.\n",
    "\n",
    "## (This script doesn't touch the [Uk Parliament Petitions Site](https://petition.parliament.uk/) in any way.)\n"
   ]
  },
  {
   "cell_type": "code",
   "execution_count": 1,
   "metadata": {},
   "outputs": [],
   "source": [
    "from datetime import datetime\n",
    "import json\n",
    "import string\n",
    "\n",
    "from bs4 import BeautifulSoup\n",
    "import ipywidgets as widgets\n",
    "from ipywidgets import Layout\n",
    "import matplotlib.dates as mdates\n",
    "import matplotlib.pyplot as plt\n",
    "import requests"
   ]
  },
  {
   "cell_type": "markdown",
   "metadata": {},
   "source": [
    "## Rather helpfully, the WayBack Machine has an [API](https://github.com/internetarchive/wayback/tree/master/wayback-cdx-server)..."
   ]
  },
  {
   "cell_type": "code",
   "execution_count": 2,
   "metadata": {},
   "outputs": [],
   "source": [
    "def get_timestamps(url):\n",
    "    req = requests.get('http://web.archive.org/cdx/search/cdx',\n",
    "        params={'url': url, 'output': 'json'})\n",
    "    return sorted(set([item[1] for item in req.json()[1:]]))\n",
    "\n",
    "def extract_count(url,timestamp):\n",
    "    req = requests.get('http://web.archive.org/web/{}/{}'.format(timestamp, url))\n",
    "    soup = BeautifulSoup(req.content)\n",
    "    return int(''.join(filter(lambda c: c in string.digits,\n",
    "        soup.find('span', class_='count').text)))\n",
    "\n",
    "def get_counts(url):\n",
    "    timestamps = get_timestamps(url)\n",
    "    counts = map(lambda t: extract_count(url,t), timestamps)\n",
    "    times = map(lambda t: datetime.strptime(t, '%Y%m%d%H%M%S'), timestamps)\n",
    "    return list(times), list(counts)\n",
    "\n",
    "def get_title(url, timestamp):\n",
    "    req = requests.get('http://web.archive.org/web/{}/{}'.format(timestamp, url))\n",
    "    soup = BeautifulSoup(req.content)\n",
    "    return soup.find('h1').contents[-1].strip()\n",
    "    "
   ]
  },
  {
   "cell_type": "code",
   "execution_count": 3,
   "metadata": {},
   "outputs": [],
   "source": [
    "def plot_signatures(title, times, counts):\n",
    "    fig, ax = plt.subplots(figsize=(12, 6))\n",
    "    ax.xaxis.set_major_formatter(mdates.DateFormatter('%d/%m %H:%M'))\n",
    "    plt.gcf().autofmt_xdate()\n",
    "    plt.xlabel('time', fontsize=20)\n",
    "    plt.ylabel('signatures', fontsize=20)\n",
    "    plt.title(title, fontsize=16)\n",
    "    plt.plot(times,counts,  marker='o')\n",
    "    plt.show()"
   ]
  },
  {
   "cell_type": "code",
   "execution_count": 4,
   "metadata": {},
   "outputs": [
    {
     "data": {
      "image/png": "[encoded data removed]",
      "text/plain": [
       "<Figure size 864x432 with 1 Axes>"
      ]
     },
     "metadata": {
      "needs_background": "light"
     },
     "output_type": "display_data"
    }
   ],
   "source": [
    "revoke_art_50 = 'https://petition.parliament.uk/petitions/241584'\n",
    "times, counts = get_counts(revoke_art_50)\n",
    "title = get_title(revoke_art_50, times[0])\n",
    "plot_signatures(title, times, counts)"
   ]
  },
  {
   "cell_type": "markdown",
   "metadata": {},
   "source": [
    "## Have some JSON data to copy and paste:"
   ]
  },
  {
   "cell_type": "code",
   "execution_count": 5,
   "metadata": {},
   "outputs": [
    {
     "name": "stdout",
     "output_type": "stream",
     "text": [
      "[[\"2019-03-20T10:05:23\", 18743], [\"2019-03-20T16:46:28\", 47774], [\"2019-03-20T17:48:42\", 56059], [\"2019-03-20T18:06:19\", 59201], [\"2019-03-20T18:06:59\", 59317], [\"2019-03-20T18:27:34\", 62991], [\"2019-03-20T18:47:37\", 66933], [\"2019-03-20T19:28:41\", 78087], [\"2019-03-20T19:47:33\", 83825], [\"2019-03-20T20:07:36\", 90300], [\"2019-03-20T20:35:32\", 100810], [\"2019-03-20T21:07:06\", 115783], [\"2019-03-20T21:08:23\", 116492], [\"2019-03-20T21:27:18\", 127255], [\"2019-03-20T22:07:13\", 171850], [\"2019-03-20T22:26:17\", 198107], [\"2019-03-20T22:29:15\", 202071], [\"2019-03-20T22:45:38\", 223736], [\"2019-03-20T23:06:04\", 250418], [\"2019-03-20T23:24:49\", 271077], [\"2019-03-20T23:43:10\", 289607], [\"2019-03-21T00:03:49\", 306097], [\"2019-03-21T00:22:29\", 317280], [\"2019-03-21T00:53:45\", 329744], [\"2019-03-21T01:01:49\", 332079], [\"2019-03-21T01:21:56\", 336529], [\"2019-03-21T02:44:55\", 347605], [\"2019-03-21T06:23:14\", 383006], [\"2019-03-21T06:43:11\", 398567], [\"2019-03-21T06:45:55\", 401067], [\"2019-03-21T07:01:06\", 417401], [\"2019-03-21T07:05:23\", 422669], [\"2019-03-21T07:16:26\", 437483], [\"2019-03-21T07:25:45\", 450909], [\"2019-03-21T07:31:24\", 459078], [\"2019-03-21T07:46:42\", 481969], [\"2019-03-21T07:47:50\", 483870], [\"2019-03-21T08:06:05\", 515213], [\"2019-03-21T08:11:29\", 525685], [\"2019-03-21T08:25:50\", 555007], [\"2019-03-21T08:26:11\", 555760], [\"2019-03-21T09:39:50\", 624259], [\"2019-03-21T10:06:55\", 665776], [\"2019-03-21T10:11:22\", 680064], [\"2019-03-21T10:12:44\", 684538], [\"2019-03-21T11:08:11\", 736052], [\"2019-03-21T11:46:40\", 779717], [\"2019-03-21T12:06:31\", 810121], [\"2019-03-21T12:19:15\", 827695], [\"2019-03-21T12:48:19\", 854417], [\"2019-03-21T13:07:46\", 877327], [\"2019-03-21T13:41:32\", 918056], [\"2019-03-21T13:42:24\", 919099], [\"2019-03-21T13:47:25\", 924935], [\"2019-03-21T14:08:04\", 949779], [\"2019-03-21T14:29:22\", 973511], [\"2019-03-21T14:47:34\", 993656], [\"2019-03-21T14:53:53\", 1000199], [\"2019-03-21T15:01:00\", 1008214], [\"2019-03-21T15:04:12\", 1012098], [\"2019-03-21T15:16:47\", 1017397], [\"2019-03-21T15:22:28\", 1027846], [\"2019-03-21T15:22:34\", 1027846], [\"2019-03-21T15:32:08\", 1037927], [\"2019-03-21T15:32:50\", 1038417], [\"2019-03-21T15:38:45\", 1044943], [\"2019-03-21T16:08:58\", 1081568], [\"2019-03-21T16:14:23\", 1088188], [\"2019-03-21T17:47:13\", 1148704], [\"2019-03-21T18:28:00\", 1239557]]\n"
     ]
    }
   ],
   "source": [
    "print(json.dumps(list(zip(map(lambda t: t.isoformat(),times),counts))))"
   ]
  },
  {
   "cell_type": "markdown",
   "metadata": {},
   "source": [
    "## Try it with any [UK Parliament Petition](https://petition.parliament.uk/) you like...\n",
    "\n",
    "# There was also the [Petition to Rescind Article 50 if Vote Leave Broke the Law](https://petition.parliament.uk/petitions/223729).\n",
    "\n",
    "## (~100K signatures were reached at 2100 18/07/18, we only get data points when the WayBack Machine takes a snapshot.)\n",
    "\n",
    "## Spoilers: People get really into it when it becomes brutally obvious that [Vote Leave did break the law](https://www.theguardian.com/politics/2018/jul/17/vote-leave-broke-electoral-law-and-british-democracy-is-shaken).\n",
    "\n",
    "## Paste the URL of the petition into the box and click the button."
   ]
  },
  {
   "cell_type": "code",
   "execution_count": 6,
   "metadata": {},
   "outputs": [
    {
     "data": {
      "application/vnd.jupyter.widget-view+json": {
       "model_id": "6d05005d380c44f498fedc1a2b820160",
       "version_major": 2,
       "version_minor": 0
      },
      "text/plain": [
       "Text(value='https://petition.parliament.uk/petitions/223729', description='Petition URL', layout=Layout(width=…"
      ]
     },
     "metadata": {},
     "output_type": "display_data"
    },
    {
     "data": {
      "application/vnd.jupyter.widget-view+json": {
       "model_id": "c23f3c3d0dad4d4abafa599cb93b4224",
       "version_major": 2,
       "version_minor": 0
      },
      "text/plain": [
       "Button(description='Get Petition History', style=ButtonStyle())"
      ]
     },
     "metadata": {},
     "output_type": "display_data"
    }
   ],
   "source": [
    "%matplotlib inline\n",
    "\n",
    "go_button = widgets.Button(description=\"Get Petition History\")\n",
    "\n",
    "leave_cheated = 'https://petition.parliament.uk/petitions/223729'\n",
    "\n",
    "url_text = widgets.Text(\n",
    "    value = leave_cheated,\n",
    "    placeholder = 'petition URL',\n",
    "    description = 'Petition URL',\n",
    "    layout=Layout(width='75%'),\n",
    "    hidden=False)\n",
    "\n",
    "def on_button_clicked(button):\n",
    "    url = url_text.value\n",
    "    times, counts = get_counts(url)\n",
    "    title = get_title(url, times[0])\n",
    "    plot_signatures(title, times, counts)\n",
    "    print(json.dumps(list(zip(map(lambda t: t.isoformat(),times),counts))))\n",
    "    \n",
    "go_button.on_click(on_button_clicked)\n",
    "    \n",
    "display(url_text)   \n",
    "display(go_button)"
   ]
  },
  {
   "cell_type": "markdown",
   "metadata": {},
   "source": [
    "## Consider the [Rejected Petitions Twitter account](https://twitter.com/rejectpetitions)..."
   ]
  }
 ],
 "metadata": {
  "kernelspec": {
   "display_name": "Python 3",
   "language": "python",
   "name": "python3"
  },
  "language_info": {
   "codemirror_mode": {
    "name": "ipython",
    "version": 3
   },
   "file_extension": ".py",
   "mimetype": "text/x-python",
   "name": "python",
   "nbconvert_exporter": "python",
   "pygments_lexer": "ipython3",
   "version": "3.7.1"
  }
 },
 "nbformat": 4,
 "nbformat_minor": 2
}
